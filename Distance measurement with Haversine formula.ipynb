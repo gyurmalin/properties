{
 "cells": [
  {
   "cell_type": "markdown",
   "metadata": {},
   "source": [
    "**Distance measurement between Keleti palyaudvar and some street midpoints in Budapest using Havesrsine formula**\n",
    "\n",
    "Reference for Haversine formula: https://janakiev.com/blog/gps-points-distance-python/"
   ]
  },
  {
   "cell_type": "code",
   "execution_count": 3,
   "metadata": {},
   "outputs": [],
   "source": [
    "import pandas as pd\n",
    "import glob\n",
    "import math"
   ]
  },
  {
   "cell_type": "code",
   "execution_count": 4,
   "metadata": {},
   "outputs": [],
   "source": [
    "list_of_files = glob.glob('./*.csv')"
   ]
  },
  {
   "cell_type": "code",
   "execution_count": 6,
   "metadata": {},
   "outputs": [],
   "source": [
    "df = pd.concat(pd.read_csv(f, sep = ';', index_col = 0, encoding = 'utf-8') for f in list_of_files)\n",
    "df = df.reset_index(drop = True)"
   ]
  },
  {
   "cell_type": "code",
   "execution_count": 18,
   "metadata": {},
   "outputs": [],
   "source": [
    "#some corrections based on errors on original datafile\n",
    "\n",
    "df.loc[df.lon == '19.jan', 'lon'] = 19.010095\n",
    "df.loc[df.lon == '19.dec', 'lon'] = 19.122428"
   ]
  },
  {
   "cell_type": "code",
   "execution_count": 19,
   "metadata": {},
   "outputs": [],
   "source": [
    "df['lon'] = df.lon.astype(float)"
   ]
  },
  {
   "cell_type": "code",
   "execution_count": 7,
   "metadata": {},
   "outputs": [],
   "source": [
    "def haversine(coord1, coord2):\n",
    "    R = 6372800  # Earth radius in meters\n",
    "    lat1, lon1 = coord1\n",
    "    lat2, lon2 = coord2\n",
    "    \n",
    "    phi1, phi2 = math.radians(lat1), math.radians(lat2) \n",
    "    dphi       = math.radians(lat2 - lat1)\n",
    "    dlambda    = math.radians(lon2 - lon1)\n",
    "    \n",
    "    a = math.sin(dphi/2)**2 + \\\n",
    "        math.cos(phi1)*math.cos(phi2)*math.sin(dlambda/2)**2\n",
    "    \n",
    "    return 2*R*math.atan2(math.sqrt(a), math.sqrt(1 - a))"
   ]
  },
  {
   "cell_type": "code",
   "execution_count": 16,
   "metadata": {},
   "outputs": [],
   "source": [
    "Keleti = []"
   ]
  },
  {
   "cell_type": "code",
   "execution_count": 20,
   "metadata": {},
   "outputs": [],
   "source": [
    "for i in range(len(df)):\n",
    "    Keleti.append(haversine([47.500361 , 19.082857], [df.lat[i],df.lon[i]]))"
   ]
  },
  {
   "cell_type": "code",
   "execution_count": 25,
   "metadata": {},
   "outputs": [],
   "source": [
    "Keleti = pd.DataFrame(Keleti, columns = ['Keleti'])\n",
    "distances = pd.concat([df, Keleti], axis = 1)"
   ]
  },
  {
   "cell_type": "code",
   "execution_count": 29,
   "metadata": {},
   "outputs": [
    {
     "name": "stdout",
     "output_type": "stream",
     "text": [
      "                              cim       lat       lon       Keleti\n",
      "0           1011 BUDAPEST FÕ UTCA  47.50061  19.03965  3246.810146\n",
      "1      1011 BUDAPEST GYARMAT UTCA  47.52339  19.11053  3298.948665\n",
      "2   1011 BUDAPEST GYORSKOCSI UTCA  47.50678  19.03710  3511.452725\n",
      "3       1011 BUDAPEST TIGRIS UTCA  47.49216  19.03208  3923.340915\n",
      "4  1011 BUDAPEST HUNYADI JÁNOS ÚT  47.49993  19.03822  3354.510405\n",
      "                                     cim       lat       lon        Keleti\n",
      "27992     1181 BUDAPEST BÓKAI ÁRPÁD UTCA  47.43940  19.17718   9811.657628\n",
      "27993  1181 BUDAPEST CSONTVÁRY K.T. UTCA  47.43661  19.16663   9484.395972\n",
      "27994      1181 BUDAPEST KIRÁLYHÁGÓ UTCA  47.42551  19.21457  12938.635008\n",
      "27995       1181 BUDAPEST CSONTVÁRI UTCA  47.44034  19.17115   9414.668621\n",
      "27996       1181 BUDAPEST ENDRÕDI S UTCA  47.44870  19.16411   8386.424309\n"
     ]
    }
   ],
   "source": [
    "print(distances.head())\n",
    "print(distances.tail())"
   ]
  }
 ],
 "metadata": {
  "kernelspec": {
   "display_name": "Python 3",
   "language": "python",
   "name": "python3"
  },
  "language_info": {
   "codemirror_mode": {
    "name": "ipython",
    "version": 3
   },
   "file_extension": ".py",
   "mimetype": "text/x-python",
   "name": "python",
   "nbconvert_exporter": "python",
   "pygments_lexer": "ipython3",
   "version": "3.6.5"
  }
 },
 "nbformat": 4,
 "nbformat_minor": 2
}
